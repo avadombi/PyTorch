{
 "cells": [
  {
   "cell_type": "markdown",
   "metadata": {},
   "source": [
    "# **Datasets & DataLoaders**\n",
    "\n",
    "Code for processing data samples can get messy and hard to maintain; we ideally want our dataset code to be decoupled from our model training code for better readability and modularity.\n",
    "\n",
    "> PyTorch provides two data primitives:\n",
    "> * `torch.utils.data.DataLoader` and `torch.utils.data.Dataset`\n",
    ">\n",
    "> that allow you to use pre-loaded datasets as well as your own data.\n",
    ">\n",
    "> `Dataset` stores the samples and their corresponding labels, and `DataLoader` wraps an iterable around the Dataset to enable easy access to the samples.\n",
    ">\n",
    "> * PyTorch domain libraries provide a number of pre-loaded datasets (such as FashionMNIST) that subclass torch.utils.data.Dataset and implement functions specific to the particular data. They can be used to prototype and benchmark your model. You can find them here:\n",
    "> > * **Image Datasets**\n",
    "> > https://pytorch.org/vision/stable/datasets.html\n",
    "> > * **Text Datasets**\n",
    "> > https://pytorch.org/text/stable/datasets.html\n",
    "> > * **Audio Datasets**\n",
    "> > https://pytorch.org/audio/stable/datasets.html\n"
   ]
  },
  {
   "cell_type": "code",
   "execution_count": null,
   "metadata": {},
   "outputs": [],
   "source": []
  }
 ],
 "metadata": {
  "language_info": {
   "name": "python"
  }
 },
 "nbformat": 4,
 "nbformat_minor": 2
}
